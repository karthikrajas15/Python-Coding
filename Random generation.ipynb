{
 "cells": [
  {
   "cell_type": "code",
   "execution_count": 28,
   "metadata": {},
   "outputs": [
    {
     "name": "stdout",
     "output_type": "stream",
     "text": [
      "['0.21', '0.40', '0.04', '0.25', '0.41', '0.98', '0.97', '0.09', '0.30', '1.00', '0.52', '0.07', '0.65', '0.11', '0.61', '0.76', '0.44', '0.85', '0.80']\n"
     ]
    }
   ],
   "source": [
    "import random\n",
    "l=[]\n",
    "for i in range(19):\n",
    "    l.append(format(random.uniform(0,1),'.2f'))\n",
    "print(l)"
   ]
  }
 ],
 "metadata": {
  "kernelspec": {
   "display_name": "Python 3",
   "language": "python",
   "name": "python3"
  },
  "language_info": {
   "codemirror_mode": {
    "name": "ipython",
    "version": 3
   },
   "file_extension": ".py",
   "mimetype": "text/x-python",
   "name": "python",
   "nbconvert_exporter": "python",
   "pygments_lexer": "ipython3",
   "version": "3.5.4"
  },
  "widgets": {
   "state": {},
   "version": "1.1.2"
  }
 },
 "nbformat": 4,
 "nbformat_minor": 2
}
